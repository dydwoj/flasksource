{
 "cells": [
  {
   "cell_type": "code",
   "execution_count": 16,
   "id": "80075217",
   "metadata": {},
   "outputs": [],
   "source": [
    "from todo.models import Todo\n",
    "from datetime import datetime\n",
    "from todo import db, create_app\n",
    "\n",
    "app = create_app()"
   ]
  },
  {
   "cell_type": "code",
   "execution_count": null,
   "id": "209b720e",
   "metadata": {},
   "outputs": [],
   "source": [
    "# 인서트 구문 (Create)\n",
    "with app.app_context():\n",
    "    todo = Todo(title='flask 공부', description='flask 공부', created=datetime.now())\n",
    "    db.session.add(todo)\n",
    "    db.session.commit()"
   ]
  },
  {
   "cell_type": "code",
   "execution_count": 19,
   "id": "68377c4b",
   "metadata": {},
   "outputs": [
    {
     "name": "stdout",
     "output_type": "stream",
     "text": [
      "<Todo 1>\n",
      "<Todo 2>\n",
      "<Todo 3>\n",
      "<Todo 4>\n",
      "<Todo 5>\n",
      "<Todo 6>\n",
      "<Todo 7>\n",
      "<Todo 8>\n",
      "<Todo 9>\n",
      "<Todo 10>\n",
      "<Todo 11>\n",
      "<Todo 12>\n",
      "<Todo 13>\n"
     ]
    }
   ],
   "source": [
    "# Read\n",
    "with app.app_context():\n",
    "    todos = Todo.query.all()\n",
    "    for todo in todos:\n",
    "        print(todo)"
   ]
  },
  {
   "cell_type": "code",
   "execution_count": null,
   "id": "d32560e2",
   "metadata": {},
   "outputs": [
    {
     "name": "stdout",
     "output_type": "stream",
     "text": [
      "[<Todo 1>]\n"
     ]
    }
   ],
   "source": [
    "# Read\n",
    "with app.app_context():\n",
    "    # 필터링\n",
    "    todo = Todo.query.filter(Todo.id == 1).all() # all 쓰는 순간 전부 리스트\n",
    "    print(todo)"
   ]
  },
  {
   "cell_type": "code",
   "execution_count": 27,
   "id": "539ae73c",
   "metadata": {},
   "outputs": [
    {
     "name": "stdout",
     "output_type": "stream",
     "text": [
      "<Todo 1>\n"
     ]
    }
   ],
   "source": [
    "with app.app_context():\n",
    "    # todo = Todo.query.get(1)\n",
    "    todo = db.session.get(Todo, 1)\n",
    "    print(todo)"
   ]
  },
  {
   "cell_type": "code",
   "execution_count": 28,
   "id": "765276e2",
   "metadata": {},
   "outputs": [],
   "source": [
    "with app.app_context():\n",
    "    todo = db.session.get(Todo, 1)\n",
    "\n",
    "    if todo:\n",
    "        todo.title = \"강아지 산책\"\n",
    "        todo.description = \"고양이 산책\"\n",
    "        db.session.commit()"
   ]
  },
  {
   "cell_type": "code",
   "execution_count": 29,
   "id": "3ab694f0",
   "metadata": {},
   "outputs": [],
   "source": [
    "# delete\n",
    "\n",
    "with app.app_context():\n",
    "    todo = db.session.get(Todo, 10)\n",
    "    db.session.delete(todo)\n",
    "    db.session.commit()"
   ]
  },
  {
   "cell_type": "code",
   "execution_count": null,
   "id": "9fe3d1e0",
   "metadata": {},
   "outputs": [],
   "source": []
  }
 ],
 "metadata": {
  "kernelspec": {
   "display_name": "venv",
   "language": "python",
   "name": "python3"
  },
  "language_info": {
   "codemirror_mode": {
    "name": "ipython",
    "version": 3
   },
   "file_extension": ".py",
   "mimetype": "text/x-python",
   "name": "python",
   "nbconvert_exporter": "python",
   "pygments_lexer": "ipython3",
   "version": "3.13.3"
  }
 },
 "nbformat": 4,
 "nbformat_minor": 5
}

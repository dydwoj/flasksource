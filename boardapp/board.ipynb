{
 "cells": [
  {
   "cell_type": "code",
   "execution_count": 2,
   "id": "cd865b06",
   "metadata": {},
   "outputs": [],
   "source": [
    "from board.models import Question, Answer\n",
    "from datetime import datetime\n",
    "from board import db, create_app\n",
    "\n",
    "app = create_app()"
   ]
  },
  {
   "cell_type": "code",
   "execution_count": 3,
   "id": "6e228029",
   "metadata": {},
   "outputs": [],
   "source": [
    "with app.app_context():\n",
    "    for i in range(100):\n",
    "        question = Question(\n",
    "            subject=\"Question title[%03d]\" % i,\n",
    "            content=\"Question content[%03d]\" % i,\n",
    "            user_id=1,\n",
    "            create_date=datetime.now()\n",
    "        )\n",
    "        db.session.add(question)\n",
    "    db.session.commit()"
   ]
  },
  {
   "cell_type": "code",
   "execution_count": 5,
   "id": "5e40129e",
   "metadata": {},
   "outputs": [],
   "source": [
    "with app.app_context():\n",
    "    for i in range(5):\n",
    "        answer = Answer(\n",
    "            content=\"Answer [%03d]\" % i,\n",
    "            user_id=1,\n",
    "            question_id=99,\n",
    "            create_date=datetime.now()\n",
    "        )\n",
    "        db.session.add(answer)\n",
    "    db.session.commit()"
   ]
  },
  {
   "cell_type": "code",
   "execution_count": null,
   "id": "dda9b319",
   "metadata": {},
   "outputs": [],
   "source": []
  }
 ],
 "metadata": {
  "kernelspec": {
   "display_name": "venv",
   "language": "python",
   "name": "python3"
  },
  "language_info": {
   "codemirror_mode": {
    "name": "ipython",
    "version": 3
   },
   "file_extension": ".py",
   "mimetype": "text/x-python",
   "name": "python",
   "nbconvert_exporter": "python",
   "pygments_lexer": "ipython3",
   "version": "3.13.3"
  }
 },
 "nbformat": 4,
 "nbformat_minor": 5
}

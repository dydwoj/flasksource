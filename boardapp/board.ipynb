{
 "cells": [
  {
   "cell_type": "code",
   "execution_count": 2,
   "id": "cd865b06",
   "metadata": {},
   "outputs": [],
   "source": [
    "from board.models import Question, Answer\n",
    "from datetime import datetime\n",
    "from board import db, create_app\n",
    "\n",
    "app = create_app()"
   ]
  },
  {
   "cell_type": "code",
   "execution_count": 8,
   "id": "6e228029",
   "metadata": {},
   "outputs": [
    {
     "ename": "InvalidRequestError",
     "evalue": "One or more mappers failed to initialize - can't proceed with initialization of other mappers. Triggering mapper: 'Mapper[Answer(answer)]'. Original exception was: Error creating backref 'question_set' on relationship 'Answer.user': property of that name exists on mapper 'Mapper[User(user)]'",
     "output_type": "error",
     "traceback": [
      "\u001b[31m---------------------------------------------------------------------------\u001b[39m",
      "\u001b[31mInvalidRequestError\u001b[39m                       Traceback (most recent call last)",
      "\u001b[36mCell\u001b[39m\u001b[36m \u001b[39m\u001b[32mIn[8]\u001b[39m\u001b[32m, line 3\u001b[39m\n\u001b[32m      1\u001b[39m \u001b[38;5;28;01mwith\u001b[39;00m app.app_context():\n\u001b[32m      2\u001b[39m     \u001b[38;5;28;01mfor\u001b[39;00m i \u001b[38;5;129;01min\u001b[39;00m \u001b[38;5;28mrange\u001b[39m(\u001b[32m100\u001b[39m):\n\u001b[32m----> \u001b[39m\u001b[32m3\u001b[39m         question = \u001b[43mQuestion\u001b[49m\u001b[43m(\u001b[49m\n\u001b[32m      4\u001b[39m \u001b[43m            \u001b[49m\u001b[43msubject\u001b[49m\u001b[43m=\u001b[49m\u001b[33;43m\"\u001b[39;49m\u001b[33;43mQuestion title[\u001b[39;49m\u001b[38;5;132;43;01m%03d\u001b[39;49;00m\u001b[33;43m]\u001b[39;49m\u001b[33;43m\"\u001b[39;49m\u001b[43m \u001b[49m\u001b[43m%\u001b[49m\u001b[43m \u001b[49m\u001b[43mi\u001b[49m\u001b[43m,\u001b[49m\n\u001b[32m      5\u001b[39m \u001b[43m            \u001b[49m\u001b[43mcontent\u001b[49m\u001b[43m=\u001b[49m\u001b[33;43m\"\u001b[39;49m\u001b[33;43mQuestion content[\u001b[39;49m\u001b[38;5;132;43;01m%03d\u001b[39;49;00m\u001b[33;43m]\u001b[39;49m\u001b[33;43m\"\u001b[39;49m\u001b[43m \u001b[49m\u001b[43m%\u001b[49m\u001b[43m \u001b[49m\u001b[43mi\u001b[49m\u001b[43m,\u001b[49m\n\u001b[32m      6\u001b[39m \u001b[43m            \u001b[49m\u001b[43muser_id\u001b[49m\u001b[43m=\u001b[49m\u001b[32;43m1\u001b[39;49m\u001b[43m,\u001b[49m\n\u001b[32m      7\u001b[39m \u001b[43m            \u001b[49m\u001b[43mcreate_date\u001b[49m\u001b[43m=\u001b[49m\u001b[43mdatetime\u001b[49m\u001b[43m.\u001b[49m\u001b[43mnow\u001b[49m\u001b[43m(\u001b[49m\u001b[43m)\u001b[49m\n\u001b[32m      8\u001b[39m \u001b[43m        \u001b[49m\u001b[43m)\u001b[49m\n\u001b[32m      9\u001b[39m         db.session.add(question)\n\u001b[32m     10\u001b[39m     db.session.commit()\n",
      "\u001b[36mFile \u001b[39m\u001b[32m<string>:4\u001b[39m, in \u001b[36m__init__\u001b[39m\u001b[34m(self, **kwargs)\u001b[39m\n",
      "\u001b[36mFile \u001b[39m\u001b[32mc:\\source\\flasksource\\venv\\Lib\\site-packages\\sqlalchemy\\orm\\state.py:566\u001b[39m, in \u001b[36mInstanceState._initialize_instance\u001b[39m\u001b[34m(*mixed, **kwargs)\u001b[39m\n\u001b[32m    563\u001b[39m \u001b[38;5;28mself\u001b[39m, instance, args = mixed[\u001b[32m0\u001b[39m], mixed[\u001b[32m1\u001b[39m], mixed[\u001b[32m2\u001b[39m:]  \u001b[38;5;66;03m# noqa\u001b[39;00m\n\u001b[32m    564\u001b[39m manager = \u001b[38;5;28mself\u001b[39m.manager\n\u001b[32m--> \u001b[39m\u001b[32m566\u001b[39m \u001b[43mmanager\u001b[49m\u001b[43m.\u001b[49m\u001b[43mdispatch\u001b[49m\u001b[43m.\u001b[49m\u001b[43minit\u001b[49m\u001b[43m(\u001b[49m\u001b[38;5;28;43mself\u001b[39;49m\u001b[43m,\u001b[49m\u001b[43m \u001b[49m\u001b[43margs\u001b[49m\u001b[43m,\u001b[49m\u001b[43m \u001b[49m\u001b[43mkwargs\u001b[49m\u001b[43m)\u001b[49m\n\u001b[32m    568\u001b[39m \u001b[38;5;28;01mtry\u001b[39;00m:\n\u001b[32m    569\u001b[39m     manager.original_init(*mixed[\u001b[32m1\u001b[39m:], **kwargs)\n",
      "\u001b[36mFile \u001b[39m\u001b[32mc:\\source\\flasksource\\venv\\Lib\\site-packages\\sqlalchemy\\event\\attr.py:497\u001b[39m, in \u001b[36m_CompoundListener.__call__\u001b[39m\u001b[34m(self, *args, **kw)\u001b[39m\n\u001b[32m    495\u001b[39m     fn(*args, **kw)\n\u001b[32m    496\u001b[39m \u001b[38;5;28;01mfor\u001b[39;00m fn \u001b[38;5;129;01min\u001b[39;00m \u001b[38;5;28mself\u001b[39m.listeners:\n\u001b[32m--> \u001b[39m\u001b[32m497\u001b[39m     \u001b[43mfn\u001b[49m\u001b[43m(\u001b[49m\u001b[43m*\u001b[49m\u001b[43margs\u001b[49m\u001b[43m,\u001b[49m\u001b[43m \u001b[49m\u001b[43m*\u001b[49m\u001b[43m*\u001b[49m\u001b[43mkw\u001b[49m\u001b[43m)\u001b[49m\n",
      "\u001b[36mFile \u001b[39m\u001b[32mc:\\source\\flasksource\\venv\\Lib\\site-packages\\sqlalchemy\\orm\\mapper.py:4406\u001b[39m, in \u001b[36m_event_on_init\u001b[39m\u001b[34m(state, args, kwargs)\u001b[39m\n\u001b[32m   4404\u001b[39m instrumenting_mapper = state.manager.mapper\n\u001b[32m   4405\u001b[39m \u001b[38;5;28;01mif\u001b[39;00m instrumenting_mapper:\n\u001b[32m-> \u001b[39m\u001b[32m4406\u001b[39m     \u001b[43minstrumenting_mapper\u001b[49m\u001b[43m.\u001b[49m\u001b[43m_check_configure\u001b[49m\u001b[43m(\u001b[49m\u001b[43m)\u001b[49m\n\u001b[32m   4407\u001b[39m     \u001b[38;5;28;01mif\u001b[39;00m instrumenting_mapper._set_polymorphic_identity:\n\u001b[32m   4408\u001b[39m         instrumenting_mapper._set_polymorphic_identity(state)\n",
      "\u001b[36mFile \u001b[39m\u001b[32mc:\\source\\flasksource\\venv\\Lib\\site-packages\\sqlalchemy\\orm\\mapper.py:2401\u001b[39m, in \u001b[36mMapper._check_configure\u001b[39m\u001b[34m(self)\u001b[39m\n\u001b[32m   2393\u001b[39m \u001b[38;5;129m@util\u001b[39m.langhelpers.tag_method_for_warnings(\n\u001b[32m   2394\u001b[39m     \u001b[33m\"\u001b[39m\u001b[33mThis warning originated from the `configure_mappers()` process, \u001b[39m\u001b[33m\"\u001b[39m\n\u001b[32m   2395\u001b[39m     \u001b[33m\"\u001b[39m\u001b[33mwhich was invoked automatically in response to a user-initiated \u001b[39m\u001b[33m\"\u001b[39m\n\u001b[32m   (...)\u001b[39m\u001b[32m   2398\u001b[39m )\n\u001b[32m   2399\u001b[39m \u001b[38;5;28;01mdef\u001b[39;00m\u001b[38;5;250m \u001b[39m\u001b[34m_check_configure\u001b[39m(\u001b[38;5;28mself\u001b[39m) -> \u001b[38;5;28;01mNone\u001b[39;00m:\n\u001b[32m   2400\u001b[39m     \u001b[38;5;28;01mif\u001b[39;00m \u001b[38;5;28mself\u001b[39m.registry._new_mappers:\n\u001b[32m-> \u001b[39m\u001b[32m2401\u001b[39m         \u001b[43m_configure_registries\u001b[49m\u001b[43m(\u001b[49m\u001b[43m{\u001b[49m\u001b[38;5;28;43mself\u001b[39;49m\u001b[43m.\u001b[49m\u001b[43mregistry\u001b[49m\u001b[43m}\u001b[49m\u001b[43m,\u001b[49m\u001b[43m \u001b[49m\u001b[43mcascade\u001b[49m\u001b[43m=\u001b[49m\u001b[38;5;28;43;01mTrue\u001b[39;49;00m\u001b[43m)\u001b[49m\n",
      "\u001b[36mFile \u001b[39m\u001b[32mc:\\source\\flasksource\\venv\\Lib\\site-packages\\sqlalchemy\\orm\\mapper.py:4214\u001b[39m, in \u001b[36m_configure_registries\u001b[39m\u001b[34m(registries, cascade)\u001b[39m\n\u001b[32m   4208\u001b[39m     Mapper.dispatch._for_class(Mapper).before_configured()  \u001b[38;5;66;03m# type: ignore # noqa: E501\u001b[39;00m\n\u001b[32m   4209\u001b[39m     \u001b[38;5;66;03m# initialize properties on all mappers\u001b[39;00m\n\u001b[32m   4210\u001b[39m     \u001b[38;5;66;03m# note that _mapper_registry is unordered, which\u001b[39;00m\n\u001b[32m   4211\u001b[39m     \u001b[38;5;66;03m# may randomly conceal/reveal issues related to\u001b[39;00m\n\u001b[32m   4212\u001b[39m     \u001b[38;5;66;03m# the order of mapper compilation\u001b[39;00m\n\u001b[32m-> \u001b[39m\u001b[32m4214\u001b[39m     \u001b[43m_do_configure_registries\u001b[49m\u001b[43m(\u001b[49m\u001b[43mregistries\u001b[49m\u001b[43m,\u001b[49m\u001b[43m \u001b[49m\u001b[43mcascade\u001b[49m\u001b[43m)\u001b[49m\n\u001b[32m   4215\u001b[39m \u001b[38;5;28;01mfinally\u001b[39;00m:\n\u001b[32m   4216\u001b[39m     _already_compiling = \u001b[38;5;28;01mFalse\u001b[39;00m\n",
      "\u001b[36mFile \u001b[39m\u001b[32mc:\\source\\flasksource\\venv\\Lib\\site-packages\\sqlalchemy\\orm\\mapper.py:4251\u001b[39m, in \u001b[36m_do_configure_registries\u001b[39m\u001b[34m(registries, cascade)\u001b[39m\n\u001b[32m   4243\u001b[39m     e = sa_exc.InvalidRequestError(\n\u001b[32m   4244\u001b[39m         \u001b[33m\"\u001b[39m\u001b[33mOne or more mappers failed to initialize - \u001b[39m\u001b[33m\"\u001b[39m\n\u001b[32m   4245\u001b[39m         \u001b[33m\"\u001b[39m\u001b[33mcan\u001b[39m\u001b[33m'\u001b[39m\u001b[33mt proceed with initialization of other \u001b[39m\u001b[33m\"\u001b[39m\n\u001b[32m   (...)\u001b[39m\u001b[32m   4248\u001b[39m         % (mapper, mapper._configure_failed)\n\u001b[32m   4249\u001b[39m     )\n\u001b[32m   4250\u001b[39m     e._configure_failed = mapper._configure_failed  \u001b[38;5;66;03m# type: ignore\u001b[39;00m\n\u001b[32m-> \u001b[39m\u001b[32m4251\u001b[39m     \u001b[38;5;28;01mraise\u001b[39;00m e\n\u001b[32m   4253\u001b[39m \u001b[38;5;28;01mif\u001b[39;00m \u001b[38;5;129;01mnot\u001b[39;00m mapper.configured:\n\u001b[32m   4254\u001b[39m     \u001b[38;5;28;01mtry\u001b[39;00m:\n",
      "\u001b[31mInvalidRequestError\u001b[39m: One or more mappers failed to initialize - can't proceed with initialization of other mappers. Triggering mapper: 'Mapper[Answer(answer)]'. Original exception was: Error creating backref 'question_set' on relationship 'Answer.user': property of that name exists on mapper 'Mapper[User(user)]'"
     ]
    }
   ],
   "source": [
    "with app.app_context():\n",
    "    for i in range(100):\n",
    "        question = Question(\n",
    "            subject=\"Question title[%03d]\" % i,\n",
    "            content=\"Question content[%03d]\" % i,\n",
    "            user_id=1,\n",
    "            create_date=datetime.now()\n",
    "        )\n",
    "        db.session.add(question)\n",
    "    db.session.commit()"
   ]
  },
  {
   "cell_type": "code",
   "execution_count": null,
   "id": "5e40129e",
   "metadata": {},
   "outputs": [],
   "source": []
  }
 ],
 "metadata": {
  "kernelspec": {
   "display_name": "venv",
   "language": "python",
   "name": "python3"
  },
  "language_info": {
   "codemirror_mode": {
    "name": "ipython",
    "version": 3
   },
   "file_extension": ".py",
   "mimetype": "text/x-python",
   "name": "python",
   "nbconvert_exporter": "python",
   "pygments_lexer": "ipython3",
   "version": "3.13.3"
  }
 },
 "nbformat": 4,
 "nbformat_minor": 5
}

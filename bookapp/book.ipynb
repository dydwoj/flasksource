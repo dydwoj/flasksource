{
 "cells": [
  {
   "cell_type": "code",
   "execution_count": 2,
   "id": "8c330402",
   "metadata": {},
   "outputs": [],
   "source": [
    "from book.models import Book\n",
    "from datetime import datetime\n",
    "from book import db, create_app\n",
    "\n",
    "app = create_app()"
   ]
  },
  {
   "cell_type": "code",
   "execution_count": 4,
   "id": "34948eac",
   "metadata": {},
   "outputs": [],
   "source": [
    "# 인서트 구문 (Create)\n",
    "with app.app_context():\n",
    "    for i in range(300):\n",
    "        book = Book(\n",
    "            title=\"Book title[%03d]\" % i,\n",
    "            author=\"author%d\" % i,\n",
    "            price=25000,\n",
    "            created=datetime.now(),\n",
    "        )\n",
    "        db.session.add(book)\n",
    "    db.session.commit()"
   ]
  },
  {
   "cell_type": "code",
   "execution_count": null,
   "id": "b5c37dcf",
   "metadata": {},
   "outputs": [],
   "source": []
  }
 ],
 "metadata": {
  "kernelspec": {
   "display_name": "venv",
   "language": "python",
   "name": "python3"
  },
  "language_info": {
   "codemirror_mode": {
    "name": "ipython",
    "version": 3
   },
   "file_extension": ".py",
   "mimetype": "text/x-python",
   "name": "python",
   "nbconvert_exporter": "python",
   "pygments_lexer": "ipython3",
   "version": "3.13.3"
  }
 },
 "nbformat": 4,
 "nbformat_minor": 5
}
